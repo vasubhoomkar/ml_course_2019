{
 "cells": [
  {
   "cell_type": "markdown",
   "metadata": {},
   "source": [
    "## About dataset\n",
    "\n",
    "The datasets consist of several independent variables include:\n",
    "\n",
    "1. Car_Name\n",
    "2. Year\n",
    "3. Selling_Price ---> Response Variable\n",
    "4. Price\n",
    "5. Kms_Driven\n",
    "6. Fuel_Type\n",
    "7. Seller_Type\n",
    "8. Transmission\n",
    "9. Owner\n",
    "\n",
    "We are going to use some of the variables for linear regression models."
   ]
  },
  {
   "cell_type": "markdown",
   "metadata": {},
   "source": [
    "### Import Modules"
   ]
  },
  {
   "cell_type": "code",
   "execution_count": null,
   "metadata": {},
   "outputs": [],
   "source": [
    "#standard lib\n",
    "\n",
    "# modules for data analysis\n",
    "import numpy as np\n",
    "import pandas as pd\n",
    "\n",
    "#modules for preprocessing and machine learning\n",
    "from sklearn.linear_model import LinearRegression\n",
    "from sklearn.model_selection import train_test_split\n",
    "from sklearn import metrics\n",
    "\n",
    "from sklearn.preprocessing import LabelEncoder\n",
    "from sklearn.preprocessing import MinMaxScaler\n",
    "from sklearn.preprocessing import StandardScaler\n",
    "from scipy.stats import pearsonr\n",
    "\n",
    "# modules for visualization\n",
    "import matplotlib.pyplot as plt\n",
    "import seaborn as sns\n",
    "%matplotlib inline\n",
    "\n",
    "#for producing consistent results when used random function\n",
    "SEED = 13"
   ]
  },
  {
   "cell_type": "markdown",
   "metadata": {},
   "source": [
    "### Read Traning Data"
   ]
  },
  {
   "cell_type": "code",
   "execution_count": null,
   "metadata": {},
   "outputs": [],
   "source": [
    "train_data = pd.read_csv('used_cars_train_data.csv',index_col=0)\n",
    "print('Data shape : rows: %s, cols : %s'% train_data.shape)"
   ]
  },
  {
   "cell_type": "code",
   "execution_count": null,
   "metadata": {},
   "outputs": [],
   "source": [
    "train_data.head()"
   ]
  },
  {
   "cell_type": "markdown",
   "metadata": {},
   "source": [
    "#### Assignment Instructions for Question 1 (1 point)\n",
    "test data is identical to train data, but it wont contain the response variable/ dependent variable. In this dataset dependent variable is \"Selling_Price\". Test data is in file 'used_cars_test_data.csv'. Read this file in test_data dataframe. And answer the question\n",
    "\n",
    "Hint: make sure you use index_col=0, that makes first column as ID column, which is just an identifier and not a part of model\n",
    "\n",
    "#### How many rows are there in the test dataset?"
   ]
  },
  {
   "cell_type": "code",
   "execution_count": null,
   "metadata": {},
   "outputs": [],
   "source": [
    "#answer for question 1\n",
    "test_data = ...#your code here"
   ]
  },
  {
   "cell_type": "markdown",
   "metadata": {},
   "source": [
    "#### Assignment Instructions for Question 2 (2 points)\n",
    "\n",
    "Select all vehicle models after year 2014. Compare their selling price mean to that of all vehicle models on or before 2014. What is difference between these?"
   ]
  },
  {
   "cell_type": "code",
   "execution_count": null,
   "metadata": {},
   "outputs": [],
   "source": [
    "#your code here"
   ]
  },
  {
   "cell_type": "markdown",
   "metadata": {},
   "source": [
    "#### Assignment Instructions for Question 3 (2 points)\n",
    "\n",
    "Selling Price the dependent variable is read into selling_price below. Create a histogram for the variable.\n",
    "Is selling price normally distributed?"
   ]
  },
  {
   "cell_type": "code",
   "execution_count": null,
   "metadata": {},
   "outputs": [],
   "source": [
    "selling_price = train_data['Selling_Price']"
   ]
  },
  {
   "cell_type": "code",
   "execution_count": null,
   "metadata": {},
   "outputs": [],
   "source": [
    "#your code here"
   ]
  },
  {
   "cell_type": "markdown",
   "metadata": {},
   "source": [
    "#### Assignment Instructions for Question 4 (2 points)\n",
    "\n",
    "Explore the relationship between selling price and Price using scaterplot. Then explore the relationship between selling price and Kms_Driven. \n",
    "Which of these is the stronger linear relationship? "
   ]
  },
  {
   "cell_type": "code",
   "execution_count": null,
   "metadata": {},
   "outputs": [],
   "source": [
    "x = train_data['Price'].values\n",
    "y = selling_price.values"
   ]
  },
  {
   "cell_type": "code",
   "execution_count": null,
   "metadata": {},
   "outputs": [],
   "source": [
    "# scatterplot for relationship between selling price and Price\n",
    "# your code here"
   ]
  },
  {
   "cell_type": "code",
   "execution_count": null,
   "metadata": {},
   "outputs": [],
   "source": [
    "x = train_data['Kms_Driven'].values\n",
    "y = selling_price.values"
   ]
  },
  {
   "cell_type": "code",
   "execution_count": null,
   "metadata": {},
   "outputs": [],
   "source": [
    "# scatterplot for relationship between selling price and Price\n",
    "# your code here"
   ]
  },
  {
   "cell_type": "code",
   "execution_count": null,
   "metadata": {},
   "outputs": [],
   "source": [
    "#Which of above is the stronger linear relationship? \n",
    "# your answer here"
   ]
  },
  {
   "cell_type": "markdown",
   "metadata": {},
   "source": [
    "#### Assignment Instructions for Question 5 (1 point)\n",
    "\n",
    "Calculate pearson coefficient between selling price and Price.\n",
    "\n",
    "*** important : Please see if you have asssigned x and y correctly."
   ]
  },
  {
   "cell_type": "code",
   "execution_count": null,
   "metadata": {},
   "outputs": [],
   "source": [
    "x = train_data['Price'].values\n",
    "y = selling_price.values"
   ]
  },
  {
   "cell_type": "code",
   "execution_count": null,
   "metadata": {},
   "outputs": [],
   "source": [
    "# your answer here"
   ]
  },
  {
   "cell_type": "markdown",
   "metadata": {},
   "source": [
    "#### Assignment Instructions for Question 6 (3 point)\n",
    "\n",
    "There are three categorical variables \n",
    "1. Fuel_Type\n",
    "2. Seller_Type\n",
    "3. Transmission\n",
    "\n",
    "First, lets get count of these records. Then we'll encode these using one hot encoding"
   ]
  },
  {
   "cell_type": "code",
   "execution_count": null,
   "metadata": {},
   "outputs": [],
   "source": [
    "train_data['Fuel_Type'].value_counts()"
   ]
  },
  {
   "cell_type": "code",
   "execution_count": null,
   "metadata": {},
   "outputs": [],
   "source": [
    "train_data['Seller_Type'].value_counts()"
   ]
  },
  {
   "cell_type": "code",
   "execution_count": null,
   "metadata": {},
   "outputs": [],
   "source": [
    "train_data['Transmission'].value_counts()"
   ]
  },
  {
   "cell_type": "code",
   "execution_count": null,
   "metadata": {},
   "outputs": [],
   "source": [
    "fuel_type_encoded_train_data = ...#your code here\n",
    "seller_type_encoded_train_data  = ...#your code here\n",
    "transmission_encoded_train_data = ...#your code here"
   ]
  },
  {
   "cell_type": "markdown",
   "metadata": {},
   "source": [
    "pd.concat([...]) joins all dataframes between [...]. axis = 1 specifies the dataframes are joined side by side.The following code joins all dataframes you created above."
   ]
  },
  {
   "cell_type": "code",
   "execution_count": null,
   "metadata": {},
   "outputs": [],
   "source": [
    "all_encoded_train = pd.concat([fuel_type_encoded_data, seller_type_encoded_train_data,transmission_encoded_train_data], axis=1, sort=False)\n",
    "all_encoded_train.head()"
   ]
  },
  {
   "cell_type": "markdown",
   "metadata": {},
   "source": [
    "#### Assignment Instructions for Question 7 (1 point)\n",
    "\n",
    "Join all_encoded_train obtained above with train data side by side. How many columns we have now in training dataset?"
   ]
  },
  {
   "cell_type": "code",
   "execution_count": null,
   "metadata": {},
   "outputs": [],
   "source": [
    "#your code here"
   ]
  },
  {
   "cell_type": "markdown",
   "metadata": {},
   "source": [
    "#### Assignment Instructions for Question 8 (1 point)\n",
    "\n",
    "We have few columns that may not be useful - very high variations and some columns we have encoded. We need to drop these columns from the train dataset. How many columns are remaining? "
   ]
  },
  {
   "cell_type": "code",
   "execution_count": null,
   "metadata": {},
   "outputs": [],
   "source": [
    "#your code here # list all columns to be dropped seperated by comma between []\n",
    "columns_to_be_dropped = []\n",
    "train_data_encoded = train_data_encoded.drop(columns_to_be_dropped, axis=1)"
   ]
  },
  {
   "cell_type": "markdown",
   "metadata": {},
   "source": [
    "#### Assignment Instructions for Question 9 (2 point)\n",
    "\n",
    "Loking at histogram and scatterplot above, are there any outliers? You may choose any of the following methods for treating the outliers:\n",
    "\n",
    "1. by visual inspection, decide on limits and filter train_data_encoded to remove outliers\n",
    "2. remove the outliers by using IQR formula."
   ]
  },
  {
   "cell_type": "code",
   "execution_count": null,
   "metadata": {},
   "outputs": [],
   "source": [
    "#your code here"
   ]
  },
  {
   "cell_type": "markdown",
   "metadata": {},
   "source": [
    "#### Assignment Instructions for Question 10 (5 point)\n",
    "\n",
    "There are 3 parts to this questions\n",
    "1. Creating train test split. Use ratio test ratio 0.33. And then performing linear regression. You may choose any features you want. Full marks will be given for better model. [2 points]\n",
    "\n",
    "2. Creating new features or transforms [2 points]. Even if you cannot create programmatically, Some ideas will be rewarded.\n",
    "\n",
    "3. Calculating r2  and plotting actual vs Predicted[1 point]\n",
    "\n",
    "*** Please remember to use correct SEED.\n"
   ]
  },
  {
   "cell_type": "code",
   "execution_count": null,
   "metadata": {},
   "outputs": [],
   "source": [
    "#### Answer 10"
   ]
  },
  {
   "cell_type": "code",
   "execution_count": null,
   "metadata": {},
   "outputs": [],
   "source": [
    "#your code here"
   ]
  },
  {
   "cell_type": "markdown",
   "metadata": {},
   "source": [
    "#### Assignment Instructions for Bonus Optional Question (~ 5 points)\n",
    "\n",
    "This is a bonus question. If you can perform all opertions of encoding and similar feature transformation on test_data and predict for test data."
   ]
  },
  {
   "cell_type": "code",
   "execution_count": null,
   "metadata": {},
   "outputs": [],
   "source": [
    "# Optional your code here"
   ]
  }
 ],
 "metadata": {
  "kernelspec": {
   "display_name": "Python 3",
   "language": "python",
   "name": "python3"
  },
  "language_info": {
   "codemirror_mode": {
    "name": "ipython",
    "version": 3
   },
   "file_extension": ".py",
   "mimetype": "text/x-python",
   "name": "python",
   "nbconvert_exporter": "python",
   "pygments_lexer": "ipython3",
   "version": "3.6.5"
  }
 },
 "nbformat": 4,
 "nbformat_minor": 2
}
